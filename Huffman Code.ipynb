{
 "cells": [
  {
   "cell_type": "code",
   "execution_count": 1,
   "id": "8ea5ff4b",
   "metadata": {},
   "outputs": [],
   "source": [
    "import heapq"
   ]
  },
  {
   "cell_type": "code",
   "execution_count": 2,
   "id": "3f3afecc",
   "metadata": {},
   "outputs": [],
   "source": [
    "class node:\n",
    "    def start(self,freq,symbol,left=None,right=None):\n",
    "        \n",
    "        self.freq=freq\n",
    "        \n",
    "        self.symbol=symbol\n",
    "        \n",
    "        self.right=right\n",
    "        \n",
    "        self.left=left\n",
    "        \n",
    "        self.huff=' '\n",
    "    def last(self,next):\n",
    "        \n",
    "        return self.freq < nxt.freq\n",
    "        "
   ]
  },
  {
   "cell_type": "code",
   "execution_count": 22,
   "id": "90c88bfe",
   "metadata": {},
   "outputs": [],
   "source": [
    "def printNodes(node,val=' '):\n",
    "    \n",
    "    newvalue = val + str(node.huff)\n",
    "    \n",
    "    if(node.left):\n",
    "        \n",
    "        printNodes(node.left,newvalue)\n",
    "        \n",
    "    if(node.right):\n",
    "        \n",
    "        printNodes(node.right,newvalue)\n",
    "        \n",
    "    if(not node.left and not node.right):\n",
    "        \n",
    "        print(f\"{node.symbol}->{newvalue}\")"
   ]
  },
  {
   "cell_type": "code",
   "execution_count": 24,
   "id": "e4174963",
   "metadata": {},
   "outputs": [
    {
     "ename": "TypeError",
     "evalue": "node() takes no arguments",
     "output_type": "error",
     "traceback": [
      "\u001b[1;31m---------------------------------------------------------------------------\u001b[0m",
      "\u001b[1;31mTypeError\u001b[0m                                 Traceback (most recent call last)",
      "\u001b[1;32m~\\AppData\\Local\\Temp\\ipykernel_10528\\1409473028.py\u001b[0m in \u001b[0;36m<module>\u001b[1;34m\u001b[0m\n\u001b[0;32m      7\u001b[0m \u001b[1;32mfor\u001b[0m \u001b[0mx\u001b[0m \u001b[1;32min\u001b[0m \u001b[0mrange\u001b[0m \u001b[1;33m(\u001b[0m\u001b[0mlen\u001b[0m\u001b[1;33m(\u001b[0m\u001b[0mchars\u001b[0m\u001b[1;33m)\u001b[0m\u001b[1;33m)\u001b[0m\u001b[1;33m:\u001b[0m\u001b[1;33m\u001b[0m\u001b[1;33m\u001b[0m\u001b[0m\n\u001b[0;32m      8\u001b[0m \u001b[1;33m\u001b[0m\u001b[0m\n\u001b[1;32m----> 9\u001b[1;33m     \u001b[0mheapq\u001b[0m\u001b[1;33m.\u001b[0m\u001b[0mheappush\u001b[0m\u001b[1;33m(\u001b[0m\u001b[0mnodes\u001b[0m\u001b[1;33m,\u001b[0m \u001b[0mnode\u001b[0m\u001b[1;33m(\u001b[0m\u001b[0mfreq\u001b[0m\u001b[1;33m[\u001b[0m\u001b[0mx\u001b[0m\u001b[1;33m]\u001b[0m\u001b[1;33m,\u001b[0m\u001b[0mchars\u001b[0m\u001b[1;33m[\u001b[0m\u001b[0mx\u001b[0m\u001b[1;33m]\u001b[0m\u001b[1;33m)\u001b[0m\u001b[1;33m)\u001b[0m\u001b[1;33m\u001b[0m\u001b[1;33m\u001b[0m\u001b[0m\n\u001b[0m\u001b[0;32m     10\u001b[0m \u001b[1;33m\u001b[0m\u001b[0m\n\u001b[0;32m     11\u001b[0m \u001b[1;32mwhile\u001b[0m \u001b[0mlen\u001b[0m\u001b[1;33m(\u001b[0m\u001b[0mnodes\u001b[0m\u001b[1;33m)\u001b[0m \u001b[1;33m>\u001b[0m \u001b[1;36m1\u001b[0m\u001b[1;33m:\u001b[0m\u001b[1;33m\u001b[0m\u001b[1;33m\u001b[0m\u001b[0m\n",
      "\u001b[1;31mTypeError\u001b[0m: node() takes no arguments"
     ]
    }
   ],
   "source": [
    "chars =['a','e','i','o','u','s']\n",
    "\n",
    "freq =[17,10,11,6,12,16,2]\n",
    "\n",
    "nodes=[]\n",
    "\n",
    "for x in range (len(chars)):\n",
    "    \n",
    "    heapq.heappush(nodes, node(freq[x],chars[x]))\n",
    "    \n",
    "while len(nodes) > 1:\n",
    "    \n",
    "    left = heapq.heappop(nodes)\n",
    "    right= heapq.heappop(nodes)\n",
    "    \n",
    "    left.huff= 0\n",
    "    right.huff= 1\n",
    "    \n",
    "    newNode = nodes(left.freq+right.freq,left.symbol+right.symbol,left,right)\n",
    "    heapq.heappush(nodes,newNode)\n",
    "    \n",
    "printNodes(nodes[0])"
   ]
  },
  {
   "cell_type": "code",
   "execution_count": null,
   "id": "5e3c49ba",
   "metadata": {},
   "outputs": [],
   "source": []
  }
 ],
 "metadata": {
  "kernelspec": {
   "display_name": "Python 3 (ipykernel)",
   "language": "python",
   "name": "python3"
  },
  "language_info": {
   "codemirror_mode": {
    "name": "ipython",
    "version": 3
   },
   "file_extension": ".py",
   "mimetype": "text/x-python",
   "name": "python",
   "nbconvert_exporter": "python",
   "pygments_lexer": "ipython3",
   "version": "3.9.13"
  }
 },
 "nbformat": 4,
 "nbformat_minor": 5
}
