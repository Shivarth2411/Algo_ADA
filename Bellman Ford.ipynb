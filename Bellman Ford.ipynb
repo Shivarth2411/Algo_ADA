{
 "cells": [
  {
   "cell_type": "code",
   "execution_count": 11,
   "id": "ed28912e",
   "metadata": {},
   "outputs": [
    {
     "name": "stdout",
     "output_type": "stream",
     "text": [
      "For graph 1:\n",
      "Vertex Distance from Source\n",
      "0\t\t0\n",
      "1\t\t5\n",
      "2\t\t1\n",
      "3\t\t7\n",
      "\n",
      "For graph 2:\n",
      "Graph contains negative weight cycle\n"
     ]
    }
   ],
   "source": [
    "#ADA Bellman Ford\n",
    "class Graph:\n",
    "\n",
    "\tdef __init__(self, vertices):\n",
    "\t\tself.V = vertices\n",
    "\t\tself.graph = []\n",
    "\n",
    "\tdef addEdge(self, u, v, w):\n",
    "\t\tself.graph.append([u, v, w])\n",
    "\n",
    "\tdef printArr(self, dist):\n",
    "\t\tprint(\"Vertex Distance from Source\")\n",
    "\t\tfor i in range(self.V):\n",
    "\t\t\tprint(\"{0}\\t\\t{1}\".format(i, dist[i]))\n",
    "\n",
    "\tdef BellmanFord(self, src):\n",
    "\n",
    "\t\tdist = [float(\"Inf\")] * self.V\n",
    "\t\tdist[src] = 0\n",
    "\n",
    "\t\tfor _ in range(self.V - 1):\n",
    "\t\t\tfor u, v, w in self.graph:\n",
    "\t\t\t\tif dist[u] != float(\"Inf\") and dist[u] + w < dist[v]:\n",
    "\t\t\t\t\tdist[v] = dist[u] + w\n",
    "\n",
    "\t\tfor u, v, w in self.graph:\n",
    "\t\t\tif dist[u] != float(\"Inf\") and dist[u] + w < dist[v]:\n",
    "\t\t\t\tprint(\"Graph contains negative weight cycle\")\n",
    "\t\t\t\treturn\n",
    "\n",
    "\t\tself.printArr(dist)\n",
    "\n",
    "print(\"For graph 1:\")\n",
    "g = Graph(4)\n",
    "g.addEdge(0, 1, 5)\n",
    "g.addEdge(0, 2, 1)\n",
    "g.addEdge(1, 0, 2)\n",
    "g.addEdge(1, 3, 3)\n",
    "g.addEdge(2, 3, 6)\n",
    "g.addEdge(3, 0, -1)\n",
    "\n",
    "g.BellmanFord(0)\n",
    "\n",
    "print(\"\\nFor graph 2:\")\n",
    "g1 = Graph(6)\n",
    "g1.addEdge(0, 1, 5)\n",
    "g1.addEdge(1, 2, 1)\n",
    "g1.addEdge(1, 3, 2)\n",
    "g1.addEdge(2, 4, 1)\n",
    "g1.addEdge(3, 5, 2)\n",
    "g1.addEdge(4, 3, -1)\n",
    "g1.addEdge(5, 4, -3)\n",
    "\n",
    "g1.BellmanFord(0)"
   ]
  },
  {
   "cell_type": "code",
   "execution_count": null,
   "id": "37ae5416",
   "metadata": {},
   "outputs": [],
   "source": []
  }
 ],
 "metadata": {
  "kernelspec": {
   "display_name": "Python 3 (ipykernel)",
   "language": "python",
   "name": "python3"
  },
  "language_info": {
   "codemirror_mode": {
    "name": "ipython",
    "version": 3
   },
   "file_extension": ".py",
   "mimetype": "text/x-python",
   "name": "python",
   "nbconvert_exporter": "python",
   "pygments_lexer": "ipython3",
   "version": "3.9.13"
  }
 },
 "nbformat": 4,
 "nbformat_minor": 5
}
