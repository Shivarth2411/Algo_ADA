{
  "nbformat": 4,
  "nbformat_minor": 0,
  "metadata": {
    "colab": {
      "provenance": []
    },
    "kernelspec": {
      "name": "python3",
      "display_name": "Python 3"
    },
    "language_info": {
      "name": "python"
    }
  },
  "cells": [
    {
      "cell_type": "code",
      "execution_count": null,
      "metadata": {
        "colab": {
          "base_uri": "https://localhost:8080/"
        },
        "id": "1AHPPDToqAzD",
        "outputId": "4a77a387-03f6-4d62-d5a8-5dba2332c1f9"
      },
      "outputs": [
        {
          "output_type": "stream",
          "name": "stdout",
          "text": [
            "vrushali2428@\n",
            "Suggested Passwords\n",
            "vrushLali2428@\n",
            "vrAushali2428@\n",
            "vrushali2428N@\n",
            "vrushali24W28@\n",
            "vrushalMi2428@\n",
            "vrushaliI2428@\n",
            "Uvrushali2428@\n",
            "vrushaliG2428@\n",
            "vrushCali2428@\n",
            "vrushaSli2428@\n"
          ]
        }
      ],
      "source": [
        "import random\n",
        "\n",
        "def insert(s, pos, ch):\n",
        "\t\treturn(s[:pos] + ch + s[pos:])\n",
        "\n",
        "def add_more_char(s, need):\n",
        "\t\tpos = 0\n",
        "\t\tlow_case = \"abcdefghijklmnopqrstuvwxyz\"\n",
        "\n",
        "\t\tfor i in range(need):\n",
        "\t\t\t\tpos = random.randint(0, len(s)-1)\n",
        "\t\t\t\ts = insert(s, pos, low_case[random.randint(0,25)])\n",
        "\n",
        "\t\treturn(s)\n",
        "\n",
        "def suggester(l, u, d, s, st):\n",
        "\n",
        "\t\tnum = '0123456789'\n",
        "\n",
        "\t\tlow_case = \"abcdefghijklmnopqrstuvwxyz\"\n",
        "\t\tup_case = low_case.upper()\n",
        "\t\tspl_char = '@#$_()!'\n",
        "\n",
        "\t\tpos = 0\n",
        "\n",
        "\t\tif( l == 0 ):\n",
        "\n",
        "\t\t\t\tpos = random.randint(0,len(st)-1)\n",
        "\n",
        "\t\t\t\tst = insert(st, pos, low_case[random.randint(0,25)])\n",
        "\n",
        "\t\tif( u == 0 ):\n",
        "\n",
        "\t\t\t\tpos = random.randint(0,len(st)-1)\n",
        "\n",
        "\t\t\t\tst = insert(st, pos, up_case[random.randint(0,25)])\n",
        "\n",
        "\t\tif( d == 0 ):\n",
        "\n",
        "\t\t\t\tpos = random.randint(0,len(st)-1)\n",
        "\n",
        "\t\t\t\tst = insert(st, pos, num[random.randint(0,9)])\n",
        "\n",
        "\t\tif( s == 0 ):\n",
        "\n",
        "\t\t\t\tpos = random.randint(0,len(st)-1)\n",
        "\n",
        "\t\t\t\tst = insert(st, pos, low_case[random.randint(0,6)])\n",
        "\n",
        "\t\treturn st\n",
        "\n",
        "def generate_password(n, p):\n",
        "\n",
        "\t\tl = 0; u = 0; d = 0; s = 0; need = 0\n",
        "\n",
        "\t\tsuggest = ''\n",
        "\n",
        "\t\tfor i in range(n):\n",
        "\n",
        "\t\t\t\tif( p[i].islower() ):\n",
        "\t\t\t\t\t\tl = 1\n",
        "\t\t\t\telif( p[i].isupper() ):\n",
        "\t\t\t\t\t\tu = 1\n",
        "\t\t\t\telif( p[i].isdigit() ):\n",
        "\t\t\t\t\t\td = 1\n",
        "\t\t\t\telse:\n",
        "\t\t\t\t\t\ts = 1\n",
        "\n",
        "\t\tif( (l + u + d + s) == 4):\n",
        "\t\t\t\tprint(\"Your Password is Strong\")\n",
        "\t\t\t\treturn\n",
        "\t\telse:\n",
        "\t\t\t\tprint(\"Suggested Passwords\")\n",
        "\n",
        "\t\tfor i in range(10):\n",
        "\t\t\t\tsuggest = suggester(l, u, d, s, p)\n",
        "\t\t\t\tneed = 8 - len(suggest)\n",
        "\n",
        "\t\t\t\tif(need > 0):\n",
        "\t\t\t\t\t\tsuggest = add_more_char(suggest, need)\n",
        "\t\t\t\tprint(suggest)\n",
        "\n",
        "input_string = input()\n",
        "\n",
        "generate_password( len(input_string), input_string)\n",
        "\n"
      ]
    }
  ]
}