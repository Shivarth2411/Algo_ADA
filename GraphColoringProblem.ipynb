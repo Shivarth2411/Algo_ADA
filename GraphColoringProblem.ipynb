{
  "nbformat": 4,
  "nbformat_minor": 0,
  "metadata": {
    "colab": {
      "provenance": []
    },
    "kernelspec": {
      "name": "python3",
      "display_name": "Python 3"
    },
    "language_info": {
      "name": "python"
    }
  },
  "cells": [
    {
      "cell_type": "code",
      "execution_count": null,
      "metadata": {
        "colab": {
          "base_uri": "https://localhost:8080/"
        },
        "id": "ShktAxyrKtOJ",
        "outputId": "33c1844a-2d7e-4213-c0b8-a36bdb7684e9"
      },
      "outputs": [
        {
          "output_type": "stream",
          "name": "stdout",
          "text": [
            "Station 2 is assigned frequency 0\n",
            "Station 3 is assigned frequency 1\n",
            "Station 4 is assigned frequency 2\n",
            "Station 1 is assigned frequency 2\n",
            "Station 5 is assigned frequency 0\n"
          ]
        }
      ],
      "source": [
        "import networkx as nx\n",
        "\n",
        "def color_graph(graph):\n",
        "    colors = {}  # Dictionary to store color assignments for vertices\n",
        "\n",
        "    # Sort the vertices by degree (number of adjacent stations) in non-increasing order\n",
        "    sorted_vertices = sorted(graph.nodes(), key=lambda x: -len(list(graph.neighbors(x))))\n",
        "\n",
        "    for vertex in sorted_vertices:\n",
        "        # Initialize a set of used colors by neighboring stations\n",
        "        used_colors = set()\n",
        "\n",
        "        # Iterate through neighboring stations and add their colors to used_colors\n",
        "        for neighbor in graph.neighbors(vertex):\n",
        "            if neighbor in colors:\n",
        "                used_colors.add(colors[neighbor])\n",
        "\n",
        "        # Find the first available color (number) that is not in used_colors\n",
        "        for color in range(len(graph)):\n",
        "            if color not in used_colors:\n",
        "                colors[vertex] = color\n",
        "                break\n",
        "\n",
        "    return colors\n",
        "\n",
        "if __name__ == \"__main__\":\n",
        "    # Create a sample graph representing radio stations and their interference\n",
        "    G = nx.Graph()\n",
        "    G.add_edges_from([(1, 2), (1, 3), (2, 3), (2, 4), (3, 4), (4, 5)])\n",
        "\n",
        "    # Solve the graph coloring problem\n",
        "    color_assignment = color_graph(G)\n",
        "\n",
        "    # Print the color assignments for each station\n",
        "    for station, color in color_assignment.items():\n",
        "        print(f\"Station {station} is assigned frequency {color}\")"
      ]
    }
  ]
}