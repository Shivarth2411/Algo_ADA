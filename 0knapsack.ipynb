{
 "cells": [
  {
   "cell_type": "code",
   "execution_count": 1,
   "id": "c2255a4f",
   "metadata": {},
   "outputs": [],
   "source": [
    "def knapsack(W,wt,val,n):\n",
    "    \n",
    "    K = [[0 for w in range(W + 1)] for i in range(n + 1)]\n",
    "    \n",
    "    for i in range(n + 1):\n",
    "        \n",
    "        for w in range(W + 1):\n",
    "            \n",
    "            if i == 0 or w == 0:\n",
    "                K[i][w] == 0\n",
    "            elif wt[i-1] <= w:\n",
    "                K[i][w] = max(val[i-1]+K[i-1][w-wt[i-1]],K[i-1][w])\n",
    "            else:\n",
    "                K[i][w]=K[i-1][w]\n",
    "    res=K[n][W]\n",
    "    print(res)\n",
    "    \n",
    "    w=W\n",
    "    for i in range(n,0,-1):\n",
    "        if res <=0:\n",
    "            break\n",
    "        if res==K[i-1][w]:\n",
    "            continue\n",
    "        else:\n",
    "            print(wt[i-1])\n",
    "            res = res - val[i-1]\n",
    "            w = w -wt[i-1]"
   ]
  },
  {
   "cell_type": "code",
   "execution_count": 2,
   "id": "fbc0a28d",
   "metadata": {},
   "outputs": [
    {
     "name": "stdout",
     "output_type": "stream",
     "text": [
      "220\n",
      "30\n",
      "20\n",
      "None\n"
     ]
    }
   ],
   "source": [
    "val =[60,100,120]\n",
    "wt =[10,20,30]\n",
    "W=50\n",
    "n= len(val)\n",
    "\n",
    "print(knapsack(W,wt,val,n))"
   ]
  },
  {
   "cell_type": "code",
   "execution_count": null,
   "id": "6d7ee3f3",
   "metadata": {},
   "outputs": [],
   "source": []
  }
 ],
 "metadata": {
  "kernelspec": {
   "display_name": "Python 3 (ipykernel)",
   "language": "python",
   "name": "python3"
  },
  "language_info": {
   "codemirror_mode": {
    "name": "ipython",
    "version": 3
   },
   "file_extension": ".py",
   "mimetype": "text/x-python",
   "name": "python",
   "nbconvert_exporter": "python",
   "pygments_lexer": "ipython3",
   "version": "3.9.13"
  }
 },
 "nbformat": 4,
 "nbformat_minor": 5
}
